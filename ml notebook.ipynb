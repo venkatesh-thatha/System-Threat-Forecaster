{
 "cells": [
  {
   "cell_type": "markdown",
   "id": "2a788f17",
   "metadata": {
    "papermill": {
     "duration": 0.004929,
     "end_time": "2025-03-12T07:41:37.746990",
     "exception": false,
     "start_time": "2025-03-12T07:41:37.742061",
     "status": "completed"
    },
    "tags": []
   },
   "source": [
    "### Problem Statement\n",
    "- ### `The Goal of the project is to predict a system probablity of getting infected by various families of malware, based on different properties of that system.`"
   ]
  },
  {
   "cell_type": "code",
   "execution_count": 1,
   "id": "be4be393",
   "metadata": {
    "_cell_guid": "b1076dfc-b9ad-4769-8c92-a6c4dae69d19",
    "_uuid": "8f2839f25d086af736a60e9eeb907d3b93b6e0e5",
    "execution": {
     "iopub.execute_input": "2025-03-12T07:41:37.757206Z",
     "iopub.status.busy": "2025-03-12T07:41:37.756872Z",
     "iopub.status.idle": "2025-03-12T07:41:40.471807Z",
     "shell.execute_reply": "2025-03-12T07:41:40.470665Z"
    },
    "papermill": {
     "duration": 2.721699,
     "end_time": "2025-03-12T07:41:40.473346",
     "exception": false,
     "start_time": "2025-03-12T07:41:37.751647",
     "status": "completed"
    },
    "tags": []
   },
   "outputs": [
    {
     "name": "stdout",
     "output_type": "stream",
     "text": [
      "/kaggle/input/System-Threat-Forecaster/sample_submission.csv\n",
      "/kaggle/input/System-Threat-Forecaster/train.csv\n",
      "/kaggle/input/System-Threat-Forecaster/test.csv\n"
     ]
    }
   ],
   "source": [
    "# This Python 3 environment comes with many helpful analytics libraries installed\n",
    "# It is defined by the kaggle/python Docker image: https://github.com/kaggle/docker-python\n",
    "# For example, here's several helpful packages to load\n",
    "\n",
    "import numpy as np # linear algebra\n",
    "import pandas as pd # data processing, CSV file I/O (e.g. pd.read_csv)\n",
    "import seaborn as sbn\n",
    "import matplotlib.pyplot as plt\n",
    "\n",
    "\n",
    "# Input data files are available in the read-only \"../input/\" directory\n",
    "# For example, running this (by clicking run or pressing Shift+Enter) will list all files under the input directory\n",
    "\n",
    "import os\n",
    "for dirname, _, filenames in os.walk('/kaggle/input'):\n",
    "    for filename in filenames:\n",
    "        print(os.path.join(dirname, filename))\n",
    "\n",
    "# You can write up to 20GB to the current directory (/kaggle/working/) that gets preserved as output when you create a version using \"Save & Run All\" \n",
    "# You can also write temporary files to /kaggle/temp/, but they won't be saved outside of the current session"
   ]
  },
  {
   "cell_type": "markdown",
   "id": "59d6f042",
   "metadata": {
    "papermill": {
     "duration": 0.004105,
     "end_time": "2025-03-12T07:41:40.482164",
     "exception": false,
     "start_time": "2025-03-12T07:41:40.478059",
     "status": "completed"
    },
    "tags": []
   },
   "source": [
    "##### Import\n",
    "- `I have used various libralies in my project.`\n",
    " "
   ]
  },
  {
   "cell_type": "code",
   "execution_count": 2,
   "id": "ab54a2dc",
   "metadata": {
    "execution": {
     "iopub.execute_input": "2025-03-12T07:41:40.492702Z",
     "iopub.status.busy": "2025-03-12T07:41:40.492141Z",
     "iopub.status.idle": "2025-03-12T07:41:41.940479Z",
     "shell.execute_reply": "2025-03-12T07:41:41.939322Z"
    },
    "papermill": {
     "duration": 1.455556,
     "end_time": "2025-03-12T07:41:41.942456",
     "exception": false,
     "start_time": "2025-03-12T07:41:40.486900",
     "status": "completed"
    },
    "tags": []
   },
   "outputs": [],
   "source": [
    "### Feature scaling and transformations\n",
    "from sklearn.preprocessing import StandardScaler,OrdinalEncoder,MinMaxScaler, FunctionTransformer, PolynomialFeatures\n",
    "### feature selection\n",
    "from sklearn.feature_selection import GenericUnivariateSelect, mutual_info_classif,SelectKBest,chi2\n",
    "### train and test\n",
    "from sklearn.model_selection import train_test_split,cross_val_score,RandomizedSearchCV, GridSearchCV\n",
    "from sklearn.model_selection import StratifiedKFold\n",
    "### Models\n",
    "from sklearn.ensemble import GradientBoostingClassifier, RandomForestClassifier,StackingClassifier\n",
    "from sklearn.tree import DecisionTreeClassifier\n",
    "from sklearn.linear_model import LogisticRegression, SGDClassifier\n",
    "from xgboost import XGBClassifier\n",
    "from sklearn.svm import SVC\n",
    "### metrics\n",
    "from sklearn.metrics import f1_score,make_scorer,classification_report,confusion_matrix,accuracy_score\n",
    "from sklearn.impute import SimpleImputer\n",
    "from sklearn.pipeline import Pipeline\n",
    "from sklearn.compose import ColumnTransformer\n",
    "from sklearn.base import BaseEstimator, TransformerMixin\n",
    "from imblearn.over_sampling import SMOTE\n",
    "## learning curve\n",
    "from sklearn.model_selection import learning_curve\n",
    "### saved model\n",
    "import pickle\n"
   ]
  },
  {
   "cell_type": "markdown",
   "id": "a4cdbc68",
   "metadata": {
    "papermill": {
     "duration": 0.00446,
     "end_time": "2025-03-12T07:41:41.951593",
     "exception": false,
     "start_time": "2025-03-12T07:41:41.947133",
     "status": "completed"
    },
    "tags": []
   },
   "source": [
    "#### Step - 1 Get the Data"
   ]
  },
  {
   "cell_type": "code",
   "execution_count": 3,
   "id": "17914868",
   "metadata": {
    "execution": {
     "iopub.execute_input": "2025-03-12T07:41:41.961762Z",
     "iopub.status.busy": "2025-03-12T07:41:41.961172Z",
     "iopub.status.idle": "2025-03-12T07:41:43.917887Z",
     "shell.execute_reply": "2025-03-12T07:41:43.916478Z"
    },
    "papermill": {
     "duration": 1.964084,
     "end_time": "2025-03-12T07:41:43.919972",
     "exception": false,
     "start_time": "2025-03-12T07:41:41.955888",
     "status": "completed"
    },
    "tags": []
   },
   "outputs": [],
   "source": [
    "train = pd.read_csv('/kaggle/input/System-Threat-Forecaster/train.csv')\n",
    "test = pd.read_csv('/kaggle/input/System-Threat-Forecaster/test.csv')\n"
   ]
  },
  {
   "cell_type": "code",
   "execution_count": 4,
   "id": "f305dde1",
   "metadata": {
    "execution": {
     "iopub.execute_input": "2025-03-12T07:41:43.936310Z",
     "iopub.status.busy": "2025-03-12T07:41:43.935910Z",
     "iopub.status.idle": "2025-03-12T07:41:43.984768Z",
     "shell.execute_reply": "2025-03-12T07:41:43.983266Z"
    },
    "papermill": {
     "duration": 0.060601,
     "end_time": "2025-03-12T07:41:43.987959",
     "exception": false,
     "start_time": "2025-03-12T07:41:43.927358",
     "status": "completed"
    },
    "tags": []
   },
   "outputs": [
    {
     "data": {
      "text/html": [
       "<div>\n",
       "<style scoped>\n",
       "    .dataframe tbody tr th:only-of-type {\n",
       "        vertical-align: middle;\n",
       "    }\n",
       "\n",
       "    .dataframe tbody tr th {\n",
       "        vertical-align: top;\n",
       "    }\n",
       "\n",
       "    .dataframe thead th {\n",
       "        text-align: right;\n",
       "    }\n",
       "</style>\n",
       "<table border=\"1\" class=\"dataframe\">\n",
       "  <thead>\n",
       "    <tr style=\"text-align: right;\">\n",
       "      <th></th>\n",
       "      <th>MachineID</th>\n",
       "      <th>ProductName</th>\n",
       "      <th>EngineVersion</th>\n",
       "      <th>AppVersion</th>\n",
       "      <th>SignatureVersion</th>\n",
       "      <th>IsBetaUser</th>\n",
       "      <th>RealTimeProtectionState</th>\n",
       "      <th>IsPassiveModeEnabled</th>\n",
       "      <th>AntivirusConfigID</th>\n",
       "      <th>NumAntivirusProductsInstalled</th>\n",
       "      <th>...</th>\n",
       "      <th>IsSecureBootEnabled</th>\n",
       "      <th>IsVirtualDevice</th>\n",
       "      <th>IsTouchEnabled</th>\n",
       "      <th>IsPenCapable</th>\n",
       "      <th>IsAlwaysOnAlwaysConnectedCapable</th>\n",
       "      <th>IsGamer</th>\n",
       "      <th>RegionIdentifier</th>\n",
       "      <th>DateAS</th>\n",
       "      <th>DateOS</th>\n",
       "      <th>target</th>\n",
       "    </tr>\n",
       "  </thead>\n",
       "  <tbody>\n",
       "    <tr>\n",
       "      <th>0</th>\n",
       "      <td>f541bae429089117c4aac39c90dd3416</td>\n",
       "      <td>win8defender</td>\n",
       "      <td>1.1.15200.1</td>\n",
       "      <td>4.18.1807.18075</td>\n",
       "      <td>1.275.1003.0</td>\n",
       "      <td>0</td>\n",
       "      <td>7.0</td>\n",
       "      <td>0</td>\n",
       "      <td>53447.0</td>\n",
       "      <td>1.0</td>\n",
       "      <td>...</td>\n",
       "      <td>0</td>\n",
       "      <td>0.0</td>\n",
       "      <td>1</td>\n",
       "      <td>0</td>\n",
       "      <td>1.0</td>\n",
       "      <td>0.0</td>\n",
       "      <td>6.0</td>\n",
       "      <td>2018-09-10 10:11:00</td>\n",
       "      <td>2018-04-17</td>\n",
       "      <td>0</td>\n",
       "    </tr>\n",
       "    <tr>\n",
       "      <th>1</th>\n",
       "      <td>dc2b14d9ce3a0ce4050bb640190f2ca5</td>\n",
       "      <td>win8defender</td>\n",
       "      <td>1.1.15100.1</td>\n",
       "      <td>4.18.1807.18075</td>\n",
       "      <td>1.273.1465.0</td>\n",
       "      <td>0</td>\n",
       "      <td>7.0</td>\n",
       "      <td>0</td>\n",
       "      <td>53447.0</td>\n",
       "      <td>1.0</td>\n",
       "      <td>...</td>\n",
       "      <td>1</td>\n",
       "      <td>0.0</td>\n",
       "      <td>0</td>\n",
       "      <td>0</td>\n",
       "      <td>0.0</td>\n",
       "      <td>0.0</td>\n",
       "      <td>10.0</td>\n",
       "      <td>2018-08-16 00:01:00</td>\n",
       "      <td>2018-08-14</td>\n",
       "      <td>1</td>\n",
       "    </tr>\n",
       "    <tr>\n",
       "      <th>2</th>\n",
       "      <td>fd20c5f010e9c5f91ad1c6b3e0da68a0</td>\n",
       "      <td>win8defender</td>\n",
       "      <td>1.1.15200.1</td>\n",
       "      <td>4.18.1807.18075</td>\n",
       "      <td>1.275.1546.0</td>\n",
       "      <td>0</td>\n",
       "      <td>7.0</td>\n",
       "      <td>0</td>\n",
       "      <td>53447.0</td>\n",
       "      <td>1.0</td>\n",
       "      <td>...</td>\n",
       "      <td>0</td>\n",
       "      <td>0.0</td>\n",
       "      <td>0</td>\n",
       "      <td>0</td>\n",
       "      <td>0.0</td>\n",
       "      <td>1.0</td>\n",
       "      <td>6.0</td>\n",
       "      <td>2018-09-20 23:20:00</td>\n",
       "      <td>2018-09-11</td>\n",
       "      <td>1</td>\n",
       "    </tr>\n",
       "    <tr>\n",
       "      <th>3</th>\n",
       "      <td>38711eae85eb77a72ec5dfdf27eb2a76</td>\n",
       "      <td>win8defender</td>\n",
       "      <td>1.1.15200.1</td>\n",
       "      <td>4.12.17007.18011</td>\n",
       "      <td>1.275.1141.0</td>\n",
       "      <td>0</td>\n",
       "      <td>7.0</td>\n",
       "      <td>0</td>\n",
       "      <td>46413.0</td>\n",
       "      <td>2.0</td>\n",
       "      <td>...</td>\n",
       "      <td>1</td>\n",
       "      <td>0.0</td>\n",
       "      <td>0</td>\n",
       "      <td>0</td>\n",
       "      <td>0.0</td>\n",
       "      <td>0.0</td>\n",
       "      <td>12.0</td>\n",
       "      <td>2018-09-14 00:32:00</td>\n",
       "      <td>2018-01-03</td>\n",
       "      <td>1</td>\n",
       "    </tr>\n",
       "    <tr>\n",
       "      <th>4</th>\n",
       "      <td>32607c9a543a9214e2c7e45800ed4849</td>\n",
       "      <td>win8defender</td>\n",
       "      <td>1.1.15200.1</td>\n",
       "      <td>4.13.17134.228</td>\n",
       "      <td>1.275.1283.0</td>\n",
       "      <td>0</td>\n",
       "      <td>7.0</td>\n",
       "      <td>0</td>\n",
       "      <td>40466.0</td>\n",
       "      <td>2.0</td>\n",
       "      <td>...</td>\n",
       "      <td>0</td>\n",
       "      <td>0.0</td>\n",
       "      <td>0</td>\n",
       "      <td>0</td>\n",
       "      <td>0.0</td>\n",
       "      <td>1.0</td>\n",
       "      <td>7.0</td>\n",
       "      <td>2018-09-15 19:34:00</td>\n",
       "      <td>2018-09-11</td>\n",
       "      <td>0</td>\n",
       "    </tr>\n",
       "  </tbody>\n",
       "</table>\n",
       "<p>5 rows × 76 columns</p>\n",
       "</div>"
      ],
      "text/plain": [
       "                          MachineID   ProductName EngineVersion  \\\n",
       "0  f541bae429089117c4aac39c90dd3416  win8defender   1.1.15200.1   \n",
       "1  dc2b14d9ce3a0ce4050bb640190f2ca5  win8defender   1.1.15100.1   \n",
       "2  fd20c5f010e9c5f91ad1c6b3e0da68a0  win8defender   1.1.15200.1   \n",
       "3  38711eae85eb77a72ec5dfdf27eb2a76  win8defender   1.1.15200.1   \n",
       "4  32607c9a543a9214e2c7e45800ed4849  win8defender   1.1.15200.1   \n",
       "\n",
       "         AppVersion SignatureVersion  IsBetaUser  RealTimeProtectionState  \\\n",
       "0   4.18.1807.18075     1.275.1003.0           0                      7.0   \n",
       "1   4.18.1807.18075     1.273.1465.0           0                      7.0   \n",
       "2   4.18.1807.18075     1.275.1546.0           0                      7.0   \n",
       "3  4.12.17007.18011     1.275.1141.0           0                      7.0   \n",
       "4    4.13.17134.228     1.275.1283.0           0                      7.0   \n",
       "\n",
       "   IsPassiveModeEnabled  AntivirusConfigID  NumAntivirusProductsInstalled  \\\n",
       "0                     0            53447.0                            1.0   \n",
       "1                     0            53447.0                            1.0   \n",
       "2                     0            53447.0                            1.0   \n",
       "3                     0            46413.0                            2.0   \n",
       "4                     0            40466.0                            2.0   \n",
       "\n",
       "   ...  IsSecureBootEnabled  IsVirtualDevice  IsTouchEnabled  IsPenCapable  \\\n",
       "0  ...                    0              0.0               1             0   \n",
       "1  ...                    1              0.0               0             0   \n",
       "2  ...                    0              0.0               0             0   \n",
       "3  ...                    1              0.0               0             0   \n",
       "4  ...                    0              0.0               0             0   \n",
       "\n",
       "   IsAlwaysOnAlwaysConnectedCapable  IsGamer RegionIdentifier  \\\n",
       "0                               1.0      0.0              6.0   \n",
       "1                               0.0      0.0             10.0   \n",
       "2                               0.0      1.0              6.0   \n",
       "3                               0.0      0.0             12.0   \n",
       "4                               0.0      1.0              7.0   \n",
       "\n",
       "                DateAS      DateOS  target  \n",
       "0  2018-09-10 10:11:00  2018-04-17       0  \n",
       "1  2018-08-16 00:01:00  2018-08-14       1  \n",
       "2  2018-09-20 23:20:00  2018-09-11       1  \n",
       "3  2018-09-14 00:32:00  2018-01-03       1  \n",
       "4  2018-09-15 19:34:00  2018-09-11       0  \n",
       "\n",
       "[5 rows x 76 columns]"
      ]
     },
     "execution_count": 4,
     "metadata": {},
     "output_type": "execute_result"
    }
   ],
   "source": [
    "train.head()"
   ]
  },
  {
   "cell_type": "code",
   "execution_count": 5,
   "id": "c0557fd0",
   "metadata": {
    "execution": {
     "iopub.execute_input": "2025-03-12T07:41:44.000877Z",
     "iopub.status.busy": "2025-03-12T07:41:44.000283Z",
     "iopub.status.idle": "2025-03-12T07:41:44.306474Z",
     "shell.execute_reply": "2025-03-12T07:41:44.304828Z"
    },
    "papermill": {
     "duration": 0.314608,
     "end_time": "2025-03-12T07:41:44.308873",
     "exception": false,
     "start_time": "2025-03-12T07:41:43.994265",
     "status": "completed"
    },
    "tags": []
   },
   "outputs": [
    {
     "name": "stdout",
     "output_type": "stream",
     "text": [
      "30 3\n"
     ]
    }
   ],
   "source": [
    "cols = train.columns\n",
    "missing_cols = [col for col in cols if train[col].isna().sum() > 0]\n",
    "num_cols = train.select_dtypes(include=[np.number]).columns\n",
    "cat_cols = train.select_dtypes(exclude=[np.number]).columns\n",
    "num_of_missing_numerical_cols =len( [col for col in missing_cols if col in num_cols])\n",
    "num_of_missing_categorical_cols = len([col for col in missing_cols if col in cat_cols])\n",
    "print(num_of_missing_numerical_cols, num_of_missing_categorical_cols)\n",
    "# missing_cols"
   ]
  },
  {
   "cell_type": "code",
   "execution_count": 6,
   "id": "32e06571",
   "metadata": {
    "execution": {
     "iopub.execute_input": "2025-03-12T07:41:44.323703Z",
     "iopub.status.busy": "2025-03-12T07:41:44.323197Z",
     "iopub.status.idle": "2025-03-12T07:41:44.354795Z",
     "shell.execute_reply": "2025-03-12T07:41:44.353833Z"
    },
    "papermill": {
     "duration": 0.040226,
     "end_time": "2025-03-12T07:41:44.356725",
     "exception": false,
     "start_time": "2025-03-12T07:41:44.316499",
     "status": "completed"
    },
    "tags": []
   },
   "outputs": [],
   "source": [
    "#### Copy of train and test\n",
    "exploration_train = train.copy()\n",
    "exploration_test = test.copy()\n"
   ]
  },
  {
   "cell_type": "markdown",
   "id": "cebcce4f",
   "metadata": {
    "papermill": {
     "duration": 0.004475,
     "end_time": "2025-03-12T07:41:44.366263",
     "exception": false,
     "start_time": "2025-03-12T07:41:44.361788",
     "status": "completed"
    },
    "tags": []
   },
   "source": [
    "#### Summary Insights for numerical\n",
    "<ul>\n",
    "<li style=\"color: blue\"><b style=\"color: red;\">IsBetaUser:</b>This feature is always 0, indicating that there are no beta users in the dataset.</li>\n",
    "<li style=\"color: blue\"><b style=\"color: red;\">RealTimeProtectionState:</b>The mean is approximately 6.85, with a small standard deviation (1.015), suggesting that most values are close to this mean. The range is from 0 to 8.</li>\n",
    "<li style=\"color: blue\"><b style=\"color: red;\">IsPassiveModeEnabled:</b>This feature has a low mean (0.0176) and a relatively high standard deviation (0.1316), indicating that it is mostly disabled but with some variability.</li>\n",
    "<li style=\"color: blue\"><b style=\"color: red;\">NumAntivirusProductsInstalled and NumAntivirusProductsEnabled:</b>Both have means close to 1, with the latter slightly lower, suggesting that most devices have one antivirus product installed and enabled.</li>\n",
    "<li style=\"color: blue\"><b style=\"color: red;\">HasTpm:</b>This feature is very consistent, with a mean of 0.9968, indicating that almost all devices have TPM (Trusted Platform Module).</li>\n",
    "<li style=\"color: blue\"><b style=\"color: red;\">FirmwareManufacturerID and FirmwareVersionID:</b>These have large ranges and high standard deviations, suggesting a variety of firmware configurations.</li>\n",
    "<li style=\"color: blue\"><b style=\"color: red;\">IsSecureBootEnabled:</b>This feature is enabled about half the time (mean = 0.4957), with a standard deviation close to 0.5, indicating a roughly even split.</li>\n",
    "<li style=\"color: blue\"><b style=\"color: red;\">IsVirtualDevice, IsTouchEnabled, IsPenCapable, and IsAlwaysOnAlwaysConnectedCapable:</b>These features are mostly disabled or not capable, with low means and standard deviations.</li>\n",
    "<li style=\"color: blue\"><b style=\"color: red;\">Target:</b>The target variable has a mean of 0.50525, suggesting that it might be a binary classification target with roughly equal class distribution.</li>\n",
    "</ul>"
   ]
  },
  {
   "cell_type": "code",
   "execution_count": 7,
   "id": "660fb4a5",
   "metadata": {
    "execution": {
     "iopub.execute_input": "2025-03-12T07:41:44.377593Z",
     "iopub.status.busy": "2025-03-12T07:41:44.377192Z",
     "iopub.status.idle": "2025-03-12T07:41:44.653579Z",
     "shell.execute_reply": "2025-03-12T07:41:44.652498Z"
    },
    "papermill": {
     "duration": 0.284332,
     "end_time": "2025-03-12T07:41:44.655659",
     "exception": false,
     "start_time": "2025-03-12T07:41:44.371327",
     "status": "completed"
    },
    "tags": []
   },
   "outputs": [],
   "source": [
    "num_summary = exploration_train.select_dtypes(include=[np.number]).describe()\n",
    "# num_summary"
   ]
  },
  {
   "cell_type": "code",
   "execution_count": 8,
   "id": "22d639ed",
   "metadata": {
    "execution": {
     "iopub.execute_input": "2025-03-12T07:41:44.667144Z",
     "iopub.status.busy": "2025-03-12T07:41:44.666768Z",
     "iopub.status.idle": "2025-03-12T07:41:47.916343Z",
     "shell.execute_reply": "2025-03-12T07:41:47.915210Z"
    },
    "papermill": {
     "duration": 3.257662,
     "end_time": "2025-03-12T07:41:47.918368",
     "exception": false,
     "start_time": "2025-03-12T07:41:44.660706",
     "status": "completed"
    },
    "tags": []
   },
   "outputs": [
    {
     "name": "stderr",
     "output_type": "stream",
     "text": [
      "/usr/local/lib/python3.10/dist-packages/matplotlib/colors.py:721: RuntimeWarning: invalid value encountered in less\n",
      "  xa[xa < 0] = -1\n",
      "/usr/local/lib/python3.10/dist-packages/matplotlib/colors.py:721: RuntimeWarning: invalid value encountered in less\n",
      "  xa[xa < 0] = -1\n"
     ]
    },
    {
     "data": {
      "image/png": "[encoded data removed]",
      "text/plain": [
       "<Figure size 1800x600 with 3 Axes>"
      ]
     },
     "metadata": {},
     "output_type": "display_data"
    }
   ],
   "source": [
    "fig, axes = plt.subplots(1, 2, figsize=(18, 6))  # Create 1 row, 2 columns of subplots\n",
    "exploration_train = exploration_train.dropna()\n",
    "# First Plot: Stacked Bar Chart\n",
    "temp = exploration_train.melt(\n",
    "    id_vars='ProductName', \n",
    "    value_vars=['NumAntivirusProductsInstalled', 'NumAntivirusProductsEnabled'], \n",
    "    var_name='Category', \n",
    "    value_name='Count'\n",
    ")\n",
    "palette = {'NumAntivirusProductsInstalled': 'green', 'NumAntivirusProductsEnabled': 'orange'}\n",
    "sbn.set(style='white')\n",
    "sbn.barplot(x=\"ProductName\", y=\"Count\", hue=\"Category\", data=temp, palette=palette, ax=axes[0])\n",
    "axes[0].set_title('Stacked Bar Chart: Installed vs Enabled Antivirus Products')\n",
    "axes[0].set_xlabel('Product Name')\n",
    "axes[0].set_ylabel('Count')\n",
    "handles, labels = axes[0].get_legend_handles_labels()\n",
    "axes[0].legend(handles=handles, title='Category', labels=['Installed', 'Enabled'])\n",
    "\n",
    "# Second Plot: Heatmap of Correlations\n",
    "selected_vars = ['RealTimeProtectionState', 'IsSystemProtected', 'AutoSampleSubmissionEnabled']\n",
    "correlation_subset_data = exploration_train[selected_vars]\n",
    "corr_matrix = correlation_subset_data.corr()\n",
    "sbn.heatmap(corr_matrix, annot=True, cmap='coolwarm', ax=axes[1])\n",
    "axes[1].set_title(\"To check if users with multiple antivirus products have better protection.\")\n",
    "selected_vars = ['RealTimeProtectionState', 'IsSystemProtected', 'AutoSampleSubmissionEnabled']\n",
    "correlation_subset_data = exploration_train[selected_vars].dropna()\n",
    "\n",
    "# Convert non-numeric columns (if any) to numeric\n",
    "correlation_subset_data = correlation_subset_data.apply(pd.to_numeric, errors='coerce')\n",
    "# Compute correlation matrix\n",
    "corr_matrix = correlation_subset_data.corr()\n",
    "# Replace NaNs with 0 (optional: or you can drop columns with NaN correlations)\n",
    "corr_matrix = corr_matrix.fillna(0)\n",
    "# Create the heatmap\n",
    "fig, axes = plt.subplots(1, 2, figsize=(18, 6))\n",
    "sbn.heatmap(corr_matrix, annot=True, cmap='coolwarm', ax=axes[1])\n",
    "axes[1].set_title(\"To check if users with multiple antivirus products have better protection.\")\n",
    "plt.tight_layout()\n",
    "# Adjust layout and save\n",
    "plt.tight_layout()\n",
    "plt.savefig(\"combined_plots.png\")\n",
    "plt.close()\n"
   ]
  },
  {
   "cell_type": "markdown",
   "id": "feefcdfc",
   "metadata": {
    "papermill": {
     "duration": 0.006815,
     "end_time": "2025-03-12T07:41:47.932053",
     "exception": false,
     "start_time": "2025-03-12T07:41:47.925238",
     "status": "completed"
    },
    "tags": []
   },
   "source": [
    "<img src=\"/kaggle/working/combined_plots.png\">"
   ]
  },
  {
   "cell_type": "markdown",
   "id": "04efb68c",
   "metadata": {
    "papermill": {
     "duration": 0.006532,
     "end_time": "2025-03-12T07:41:47.945218",
     "exception": false,
     "start_time": "2025-03-12T07:41:47.938686",
     "status": "completed"
    },
    "tags": []
   },
   "source": [
    "#### Step 3 - Preprocessing Data\n",
    "1. ##### `Handle missing values`\n",
    "2. ##### Convert `DateAS` and `DateOS` into datetime and extract useful features.\n",
    "3. ##### `Encode categorical features.`\n",
    "4. ##### Scale numerical features like `Log` transformations if needed.\n",
    "5. ##### Detect and handle outliers.\n",
    "6. ##### Reduce high-cardinality features."
   ]
  },
  {
   "cell_type": "code",
   "execution_count": 9,
   "id": "92ad8186",
   "metadata": {
    "execution": {
     "iopub.execute_input": "2025-03-12T07:41:47.959751Z",
     "iopub.status.busy": "2025-03-12T07:41:47.959275Z",
     "iopub.status.idle": "2025-03-12T07:42:45.885158Z",
     "shell.execute_reply": "2025-03-12T07:42:45.883929Z"
    },
    "papermill": {
     "duration": 57.935426,
     "end_time": "2025-03-12T07:42:45.887315",
     "exception": false,
     "start_time": "2025-03-12T07:41:47.951889",
     "status": "completed"
    },
    "tags": []
   },
   "outputs": [],
   "source": [
    "# Separate features and target\n",
    "y = exploration_train['target']\n",
    "X = exploration_train.drop(columns=['target'])\n",
    "\n",
    "# Split train into X_train and X_test\n",
    "X_train, X_test, y_train, y_test = train_test_split(X, y, test_size=0.2, random_state=42, stratify=y)\n",
    "\n",
    "# Identify numerical and categorical columns\n",
    "num_cols = X_train.select_dtypes(include=[np.number]).columns.tolist()\n",
    "cat_cols = X_train.select_dtypes(include=[object]).columns.tolist()\n",
    "\n",
    "# Remove high-cardinality or ID-like columns\n",
    "high_cardinality_cols = ['MachineID'] if 'MachineID' in X_train.columns else []\n",
    "num_cols = [col for col in num_cols if col not in high_cardinality_cols]\n",
    "cat_cols = [col for col in cat_cols if col not in high_cardinality_cols]\n",
    "\n",
    "# Define the numerical preprocessing pipeline\n",
    "num_pipeline = Pipeline([\n",
    "    ('imputer', SimpleImputer(strategy='median')),\n",
    "    ('log_transform', FunctionTransformer(np.log1p, validate=False)),\n",
    "    ('scaler', MinMaxScaler()),\n",
    "    ('poly_features', PolynomialFeatures(degree=2, include_bias=False))\n",
    "])\n",
    "\n",
    "# Define the categorical preprocessing pipeline\n",
    "cat_pipeline = Pipeline([\n",
    "    ('imputer', SimpleImputer(strategy='constant', fill_value='Unknown')),\n",
    "    ('ordinal_encoder', OrdinalEncoder(handle_unknown='use_encoded_value', unknown_value=-1))\n",
    "])\n",
    "\n",
    "# Combine into a column transformer\n",
    "preprocessor = ColumnTransformer([\n",
    "    ('num', num_pipeline, num_cols),\n",
    "    ('cat', cat_pipeline, cat_cols)\n",
    "])\n",
    "\n",
    "# Apply preprocessing to train, test, and exploration_test datasets\n",
    "X_train_processed = preprocessor.fit_transform(X_train)\n",
    "X_test_processed = preprocessor.transform(X_test)\n",
    "exploration_test_processed = preprocessor.transform(exploration_test)\n",
    "\n",
    "# Apply SMOTE for handling class imbalance\n",
    "smote = SMOTE(random_state=42)\n",
    "X_train_processed, y_train = smote.fit_resample(X_train_processed, y_train)"
   ]
  },
  {
   "cell_type": "code",
   "execution_count": 10,
   "id": "6b795df0",
   "metadata": {
    "execution": {
     "iopub.execute_input": "2025-03-12T07:42:45.902115Z",
     "iopub.status.busy": "2025-03-12T07:42:45.901762Z",
     "iopub.status.idle": "2025-03-12T07:49:22.649914Z",
     "shell.execute_reply": "2025-03-12T07:49:22.648641Z"
    },
    "papermill": {
     "duration": 396.764327,
     "end_time": "2025-03-12T07:49:22.658471",
     "exception": false,
     "start_time": "2025-03-12T07:42:45.894144",
     "status": "completed"
    },
    "tags": []
   },
   "outputs": [
    {
     "name": "stdout",
     "output_type": "stream",
     "text": [
      "RandomForest Accuracy: 0.6101\n",
      "DecisionTree Accuracy: 0.5434\n",
      "SGDClassifier Accuracy: 0.5924\n",
      "XGBoost Accuracy: 0.6236\n",
      "Best initial model: XGBoost\n"
     ]
    }
   ],
   "source": [
    "models = {\n",
    "    'RandomForest': RandomForestClassifier(random_state=42, class_weight='balanced'),\n",
    "    'DecisionTree': DecisionTreeClassifier(random_state=42, class_weight='balanced'),\n",
    "    'SGDClassifier': SGDClassifier(random_state=42, class_weight='balanced'),\n",
    "    'XGBoost': XGBClassifier(random_state=42, scale_pos_weight=np.sum(y_train == 0) / np.sum(y_train == 1))\n",
    "}\n",
    "\n",
    "# Train and evaluate each model\n",
    "model_scores = {}\n",
    "for name, model in models.items():\n",
    "    model.fit(X_train_processed, y_train)\n",
    "    y_pred = model.predict(X_test_processed)\n",
    "    accuracy = accuracy_score(y_test, y_pred)\n",
    "    model_scores[name] = accuracy\n",
    "    print(f\"{name} Accuracy: {accuracy:.4f}\")\n",
    "\n",
    "# Hyperparameter tuning for the best-performing model\n",
    "best_model_name = max(model_scores, key=model_scores.get)\n",
    "print(f\"Best initial model: {best_model_name}\")\n",
    "\n",
    "if best_model_name == 'RandomForest':\n",
    "    param_grid = {\n",
    "        'n_estimators': [50, 100, 200],\n",
    "        'max_depth': [None, 10, 20],\n",
    "        'min_samples_split': [2, 5, 10],\n",
    "        'min_samples_leaf': [1, 2, 4]\n",
    "    }\n",
    "    best_model = RandomForestClassifier(random_state=42, class_weight='balanced')\n",
    "\n",
    "elif best_model_name == 'DecisionTree':\n",
    "    param_grid = {\n",
    "        'max_depth': [5, 10, 20],\n",
    "        'min_samples_split': [2, 5, 10],\n",
    "        'min_samples_leaf': [1, 2, 4]\n",
    "    }\n",
    "    best_model = DecisionTreeClassifier(random_state=42, class_weight='balanced')\n",
    "\n",
    "elif best_model_name == 'SGDClassifier':\n",
    "    param_grid = {\n",
    "        'alpha': [0.0001, 0.001, 0.01],\n",
    "        'loss': ['hinge', 'log', 'modified_huber']\n",
    "    }\n",
    "    best_model = SGDClassifier(random_state=42, class_weight='balanced')\n",
    "\n",
    "elif best_model_name == 'XGBoost':\n",
    "    param_grid = {\n",
    "        'n_estimators': [50, 100, 200],\n",
    "        'learning_rate': [0.01, 0.1, 0.2],\n",
    "        'max_depth': [3, 5, 10]\n",
    "    }\n",
    "    best_model = XGBClassifier(random_state=42, scale_pos_weight = min(np.sum(y_train == 0) / np.sum(y_train == 1), 100)  # Cap at 100\n",
    ")\n",
    "\n"
   ]
  },
  {
   "cell_type": "code",
   "execution_count": 11,
   "id": "394193f2",
   "metadata": {
    "execution": {
     "iopub.execute_input": "2025-03-12T07:49:22.673601Z",
     "iopub.status.busy": "2025-03-12T07:49:22.673195Z",
     "iopub.status.idle": "2025-03-12T08:18:24.891854Z",
     "shell.execute_reply": "2025-03-12T08:18:24.890435Z"
    },
    "papermill": {
     "duration": 1742.23503,
     "end_time": "2025-03-12T08:18:24.900540",
     "exception": false,
     "start_time": "2025-03-12T07:49:22.665510",
     "status": "completed"
    },
    "tags": []
   },
   "outputs": [
    {
     "name": "stdout",
     "output_type": "stream",
     "text": [
      "Best Parameters: {'learning_rate': 0.2, 'max_depth': 3, 'n_estimators': 200}\n",
      "Final Test Accuracy: 0.6325042659910026\n"
     ]
    }
   ],
   "source": [
    "grid_search = GridSearchCV(best_model, param_grid, cv=2, n_jobs=2, scoring='accuracy')\n",
    "grid_search.fit(X_train_processed, y_train)\n",
    "\n",
    "# Evaluate best model\n",
    "final_model = grid_search.best_estimator_\n",
    "y_pred = final_model.predict(X_test_processed)\n",
    "final_accuracy = accuracy_score(y_test, y_pred)\n",
    "\n",
    "# Print best parameters and accuracy\n",
    "print(\"Best Parameters:\", grid_search.best_params_)\n",
    "print(\"Final Test Accuracy:\", final_accuracy)\n"
   ]
  },
  {
   "cell_type": "code",
   "execution_count": 12,
   "id": "2e40ef24",
   "metadata": {
    "execution": {
     "iopub.execute_input": "2025-03-12T08:18:24.915485Z",
     "iopub.status.busy": "2025-03-12T08:18:24.915094Z",
     "iopub.status.idle": "2025-03-12T08:18:24.923891Z",
     "shell.execute_reply": "2025-03-12T08:18:24.922989Z"
    },
    "papermill": {
     "duration": 0.018679,
     "end_time": "2025-03-12T08:18:24.926004",
     "exception": false,
     "start_time": "2025-03-12T08:18:24.907325",
     "status": "completed"
    },
    "tags": []
   },
   "outputs": [],
   "source": [
    "with open(\"best_model.pkl\", \"wb\") as file:\n",
    "    pickle.dump(final_model, file)\n",
    "\t"
   ]
  },
  {
   "cell_type": "code",
   "execution_count": 13,
   "id": "cec3ea39",
   "metadata": {
    "execution": {
     "iopub.execute_input": "2025-03-12T08:18:24.940963Z",
     "iopub.status.busy": "2025-03-12T08:18:24.940585Z",
     "iopub.status.idle": "2025-03-12T08:18:25.008299Z",
     "shell.execute_reply": "2025-03-12T08:18:25.007083Z"
    },
    "papermill": {
     "duration": 0.077632,
     "end_time": "2025-03-12T08:18:25.010557",
     "exception": false,
     "start_time": "2025-03-12T08:18:24.932925",
     "status": "completed"
    },
    "tags": []
   },
   "outputs": [
    {
     "name": "stdout",
     "output_type": "stream",
     "text": [
      "Predictions saved to submission.csv successfully!\n"
     ]
    }
   ],
   "source": [
    "with open(\"best_model.pkl\", \"rb\") as file:\n",
    "    loaded_model = pickle.load(file)\n",
    "\n",
    "y_pred = final_model.predict(exploration_test_processed)\n",
    "\n",
    "# Create DataFrame with predictions\n",
    "submission_df = pd.DataFrame({\n",
    "    'id': range(len(y_pred)),  # Replace 'Id' with the appropriate identifier column if needed\n",
    "    'target': y_pred\n",
    "})\n",
    "\n",
    "# Save to CSV\n",
    "submission_df.to_csv(\"submission.csv\", index=False)\n",
    "\n",
    "print(\"Predictions saved to submission.csv successfully!\")"
   ]
  }
 ],
 "metadata": {
  "kaggle": {
   "accelerator": "none",
   "dataSources": [
    {
     "databundleVersionId": 10592855,
     "sourceId": 90791,
     "sourceType": "competition"
    }
   ],
   "dockerImageVersionId": 30918,
   "isGpuEnabled": false,
   "isInternetEnabled": true,
   "language": "python",
   "sourceType": "notebook"
  },
  "kernelspec": {
   "display_name": "Python 3",
   "language": "python",
   "name": "python3"
  },
  "language_info": {
   "codemirror_mode": {
    "name": "ipython",
    "version": 3
   },
   "file_extension": ".py",
   "mimetype": "text/x-python",
   "name": "python",
   "nbconvert_exporter": "python",
   "pygments_lexer": "ipython3",
   "version": "3.10.12"
  },
  "papermill": {
   "default_parameters": {},
   "duration": 2211.20463,
   "end_time": "2025-03-12T08:18:26.043369",
   "environment_variables": {},
   "exception": null,
   "input_path": "__notebook__.ipynb",
   "output_path": "__notebook__.ipynb",
   "parameters": {},
   "start_time": "2025-03-12T07:41:34.838739",
   "version": "2.6.0"
  }
 },
 "nbformat": 4,
 "nbformat_minor": 5
}
